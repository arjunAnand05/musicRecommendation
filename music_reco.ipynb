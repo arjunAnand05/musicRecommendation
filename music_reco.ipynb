{
 "metadata": {
  "name": "",
  "signature": "sha256:6479849cb8efff87fe17ecdaed6d5b524bae8523b4499ff87d84e5c287112712"
 },
 "nbformat": 3,
 "nbformat_minor": 0,
 "worksheets": [
  {
   "cells": [
    {
     "cell_type": "code",
     "collapsed": false,
     "input": [
      "import sys\n",
      "import os\n",
      "import glob\n",
      "from pyechonest import config\n",
      "from pyechonest import catalog\n",
      "from pyechonest import song\n",
      "from scipy.sparse import hstack, diags, csr_matrix\n",
      "from sklearn.preprocessing import normalize\n",
      "import numpy as np\n",
      "from numpy import linalg as LA\n",
      "import csv\n",
      "import math\n",
      "from random import randint\n",
      "from scipy.spatial import distance\n",
      "from scipy import stats"
     ],
     "language": "python",
     "metadata": {},
     "outputs": [],
     "prompt_number": 75
    },
    {
     "cell_type": "code",
     "collapsed": false,
     "input": [
      "config.ECHO_NEST_API_KEY = \"IEDW5SHUALLUEWCG3\"\n",
      "\n",
      "msd_subset_path = './MillionSongSubset'\n",
      "msd_subset_data_path=os.path.join(msd_subset_path,'data')\n",
      "msd_subset_addf_path=os.path.join(msd_subset_path,'AdditionalFiles')\n",
      "msd_code_path='./MSongsDB'\n",
      "sys.path.append( os.path.join(msd_code_path,'PythonSrc') )\n",
      "\n",
      "# imports specific to the MSD\n",
      "import hdf5_getters as GETTERS"
     ],
     "language": "python",
     "metadata": {},
     "outputs": [],
     "prompt_number": 4
    },
    {
     "cell_type": "code",
     "collapsed": false,
     "input": [
      "def getSongProperties(songCount = 3000, splitData = True):\n",
      "    songDict = {}\n",
      "    songIdDict = {}\n",
      "    songIdCount = 0\n",
      "    for root, dirs, files in os.walk(msd_subset_data_path):\n",
      "        files = glob.glob(os.path.join(root,'*.h5'))\n",
      "        for f in files:\n",
      "            h5 = GETTERS.open_h5_file_read(f)\n",
      "            tempo = GETTERS.get_tempo(h5)\n",
      "            danceability = GETTERS.get_danceability(h5)\n",
      "            energy = GETTERS.get_energy(h5)\n",
      "            loudness = GETTERS.get_loudness(h5)\n",
      "            #print GETTERS.get_artist_terms(h5)\n",
      "            timbre = GETTERS.get_segments_timbre(h5)\n",
      "            artist_hotness = GETTERS.get_artist_hotttnesss(h5)\n",
      "            song_key = GETTERS.get_key(h5)\n",
      "            songIdDict[GETTERS.get_song_id(h5)] = songIdCount\n",
      "            songDict[songIdCount] = [tempo,danceability,energy,loudness,artist_hotness,song_key]\n",
      "            songIdCount += 1\n",
      "            h5.close()\n",
      "            #if len(songDict) >2:\n",
      "             #   break\n",
      "        #if len(songDict) >2:\n",
      "         #   break\n",
      "        if songIdCount > songCount and splitData:\n",
      "            break\n",
      "    return songIdDict,songDict"
     ],
     "language": "python",
     "metadata": {},
     "outputs": [],
     "prompt_number": 47
    },
    {
     "cell_type": "code",
     "collapsed": false,
     "input": [
      "def loadFile(filename, songSet = {}, trimData = False):\n",
      "    trainUsers = []\n",
      "    trainSongs = []\n",
      "    trainRatings = []\n",
      "    testData = {}\n",
      "    userIdDict = {}\n",
      "    userIdCount = 0\n",
      "    songIdCount = max(songSet.values())+1 if len(songSet) > 0   else 0\n",
      "    testInstanceCount = 400000\n",
      "    lineCount = 0\n",
      "    maxRating = 0\n",
      "    minRating = 0\n",
      "    with open(filename,'rb') as infile:\n",
      "        for line in infile:\n",
      "            row = line.rstrip().split(\"\\t\")\n",
      "            song = row[1]\n",
      "            user = row[0]\n",
      "            rating = 1 + 5*math.log(1 + int(row[2]))\n",
      "            \n",
      "            if rating > maxRating:\n",
      "                maxRating = rating\n",
      "            if rating < minRating:\n",
      "                minRating = rating\n",
      "            if user not in userIdDict:\n",
      "                userIdDict[user] = userIdCount\n",
      "                userIdCount += 1\n",
      "                \n",
      "            user = userIdDict[user]\n",
      "                \n",
      "            if song not in songSet:\n",
      "                songSet[song] = songIdCount\n",
      "                songIdCount += 1\n",
      "                \n",
      "            song = songSet[song]\n",
      "            \n",
      "            if lineCount < testInstanceCount and randint(0,20) % 3 ==0:\n",
      "                testData[user,song] = rating\n",
      "                    \n",
      "            else:\n",
      "                trainUsers.append(user)\n",
      "                trainSongs.append(song)\n",
      "                trainRatings.append(rating)\n",
      "            \n",
      "            lineCount += 1 \n",
      "            if trimData and lineCount > 100000:\n",
      "                break\n",
      "    \n",
      "    #print \"Maximum  = \",maxRating,\" and minimum = \",minRating\n",
      "    return userIdDict,songSet,csr_matrix((trainRatings,(trainUsers,trainSongs))),testData"
     ],
     "language": "python",
     "metadata": {},
     "outputs": [],
     "prompt_number": 56
    },
    {
     "cell_type": "code",
     "collapsed": false,
     "input": [
      "songIdDict, songProperties = getSongProperties(splitData = False)\n",
      "print \"Done! Found \",len(songIdDict), \" songs\""
     ],
     "language": "python",
     "metadata": {},
     "outputs": [
      {
       "output_type": "stream",
       "stream": "stdout",
       "text": [
        "Done! Found  10000  songs\n"
       ]
      }
     ],
     "prompt_number": 49
    },
    {
     "cell_type": "code",
     "collapsed": false,
     "input": [
      "userIdDict,songSet, trainData, testData =  loadFile('train_triplets.txt', songIdDict)\n",
      "print \"Done again now!\""
     ],
     "language": "python",
     "metadata": {},
     "outputs": [
      {
       "output_type": "stream",
       "stream": "stdout",
       "text": [
        "Maximum =  46.8828837091  and minimum =  0\n",
        "Done again now!"
       ]
      },
      {
       "output_type": "stream",
       "stream": "stdout",
       "text": [
        "\n"
       ]
      }
     ],
     "prompt_number": 326
    },
    {
     "cell_type": "code",
     "collapsed": false,
     "input": [
      "def trimTestData(testData, trainData, songProperties):\n",
      "    fiveCount = 0\n",
      "    actualTestData = {}\n",
      "    for user,song in testData.keys():\n",
      "        if trainData[user].nnz == 0 or song not in songProperties:\n",
      "            continue\n",
      "        count = 0\n",
      "        for arr in trainData[user].nonzero():\n",
      "            for songIndex in arr:\n",
      "                if songIndex in songProperties and songIndex != 0:\n",
      "                    count += 1\n",
      "        if count >= 2:\n",
      "            fiveCount += 1 \n",
      "            actualTestData[user,song] = testData[user,song]\n",
      "    return actualTestData  "
     ],
     "language": "python",
     "metadata": {},
     "outputs": [],
     "prompt_number": 55
    },
    {
     "cell_type": "code",
     "collapsed": false,
     "input": [
      "actualTestData = trimTestData(testData,trainData,songProperties)\n",
      "print \"Done trimming!\""
     ],
     "language": "python",
     "metadata": {},
     "outputs": [
      {
       "output_type": "stream",
       "stream": "stdout",
       "text": [
        "Done trimming!\n"
       ]
      }
     ],
     "prompt_number": 318
    },
    {
     "cell_type": "code",
     "collapsed": false,
     "input": [
      "def runHybrid(simFunc):\n",
      "    for i in range(1,21):\n",
      "        userIdDict,songSet, trainData, testData =  loadFile('train_triplets.txt', songIdDict, trimData=True)\n",
      "        actualTestData = trimTestData(testData,trainData,songProperties)\n",
      "        print i,\",\",computeRMSE(actualTestData,trainData,songProperties, simFunc)\n",
      "    "
     ],
     "language": "python",
     "metadata": {},
     "outputs": [],
     "prompt_number": 68
    },
    {
     "cell_type": "code",
     "collapsed": false,
     "input": [
      "runHybrid(computeCosineSimilarity)"
     ],
     "language": "python",
     "metadata": {},
     "outputs": [
      {
       "output_type": "stream",
       "stream": "stdout",
       "text": [
        "1 , "
       ]
      },
      {
       "output_type": "stream",
       "stream": "stdout",
       "text": [
        "2.43983988983\n",
        "2"
       ]
      },
      {
       "output_type": "stream",
       "stream": "stdout",
       "text": [
        " , "
       ]
      },
      {
       "output_type": "stream",
       "stream": "stdout",
       "text": [
        "2.30636445141\n",
        "3"
       ]
      },
      {
       "output_type": "stream",
       "stream": "stdout",
       "text": [
        " , "
       ]
      },
      {
       "output_type": "stream",
       "stream": "stdout",
       "text": [
        "1.98238636939\n",
        "4"
       ]
      },
      {
       "output_type": "stream",
       "stream": "stdout",
       "text": [
        " , "
       ]
      },
      {
       "output_type": "stream",
       "stream": "stdout",
       "text": [
        "2.17012842728\n",
        "5"
       ]
      },
      {
       "output_type": "stream",
       "stream": "stdout",
       "text": [
        " , "
       ]
      },
      {
       "output_type": "stream",
       "stream": "stdout",
       "text": [
        "2.42548039698\n",
        "6"
       ]
      },
      {
       "output_type": "stream",
       "stream": "stdout",
       "text": [
        " , "
       ]
      },
      {
       "output_type": "stream",
       "stream": "stdout",
       "text": [
        "2.52164950671\n",
        "7"
       ]
      },
      {
       "output_type": "stream",
       "stream": "stdout",
       "text": [
        " , "
       ]
      },
      {
       "output_type": "stream",
       "stream": "stdout",
       "text": [
        "2.62750455967\n",
        "8"
       ]
      },
      {
       "output_type": "stream",
       "stream": "stdout",
       "text": [
        " , "
       ]
      },
      {
       "output_type": "stream",
       "stream": "stdout",
       "text": [
        "2.77992315635\n",
        "9"
       ]
      },
      {
       "output_type": "stream",
       "stream": "stdout",
       "text": [
        " , "
       ]
      },
      {
       "output_type": "stream",
       "stream": "stdout",
       "text": [
        "2.89290017371\n",
        "10"
       ]
      },
      {
       "output_type": "stream",
       "stream": "stdout",
       "text": [
        " , "
       ]
      },
      {
       "output_type": "stream",
       "stream": "stdout",
       "text": [
        "2.38911994905\n",
        "11"
       ]
      },
      {
       "output_type": "stream",
       "stream": "stdout",
       "text": [
        " , "
       ]
      },
      {
       "output_type": "stream",
       "stream": "stdout",
       "text": [
        "2.73312675671\n",
        "12"
       ]
      },
      {
       "output_type": "stream",
       "stream": "stdout",
       "text": [
        " , "
       ]
      },
      {
       "output_type": "stream",
       "stream": "stdout",
       "text": [
        "2.81096863661\n",
        "13"
       ]
      },
      {
       "output_type": "stream",
       "stream": "stdout",
       "text": [
        " , "
       ]
      },
      {
       "output_type": "stream",
       "stream": "stdout",
       "text": [
        "2.76753502308\n",
        "14"
       ]
      },
      {
       "output_type": "stream",
       "stream": "stdout",
       "text": [
        " , "
       ]
      },
      {
       "output_type": "stream",
       "stream": "stdout",
       "text": [
        "2.6970334193\n",
        "15"
       ]
      },
      {
       "output_type": "stream",
       "stream": "stdout",
       "text": [
        " , "
       ]
      },
      {
       "output_type": "stream",
       "stream": "stdout",
       "text": [
        "2.46062866397\n",
        "16"
       ]
      },
      {
       "output_type": "stream",
       "stream": "stdout",
       "text": [
        " , "
       ]
      },
      {
       "output_type": "stream",
       "stream": "stdout",
       "text": [
        "2.57160053333\n",
        "17"
       ]
      },
      {
       "output_type": "stream",
       "stream": "stdout",
       "text": [
        " , "
       ]
      },
      {
       "output_type": "stream",
       "stream": "stdout",
       "text": [
        "2.41853921314\n",
        "18"
       ]
      },
      {
       "output_type": "stream",
       "stream": "stdout",
       "text": [
        " , "
       ]
      },
      {
       "output_type": "stream",
       "stream": "stdout",
       "text": [
        "2.27395276105\n",
        "19"
       ]
      },
      {
       "output_type": "stream",
       "stream": "stdout",
       "text": [
        " , "
       ]
      },
      {
       "output_type": "stream",
       "stream": "stdout",
       "text": [
        "2.64744680288\n",
        "20"
       ]
      },
      {
       "output_type": "stream",
       "stream": "stdout",
       "text": [
        " , "
       ]
      },
      {
       "output_type": "stream",
       "stream": "stdout",
       "text": [
        "2.70949063353\n"
       ]
      }
     ],
     "prompt_number": 60
    },
    {
     "cell_type": "code",
     "collapsed": false,
     "input": [
      "runHybrid(computeEuclideanSimilarity)"
     ],
     "language": "python",
     "metadata": {},
     "outputs": [
      {
       "output_type": "stream",
       "stream": "stdout",
       "text": [
        "1 , "
       ]
      },
      {
       "output_type": "stream",
       "stream": "stdout",
       "text": [
        "2.57285487295\n",
        "2"
       ]
      },
      {
       "output_type": "stream",
       "stream": "stdout",
       "text": [
        " , "
       ]
      },
      {
       "output_type": "stream",
       "stream": "stdout",
       "text": [
        "3.04528251061\n",
        "3"
       ]
      },
      {
       "output_type": "stream",
       "stream": "stdout",
       "text": [
        " , "
       ]
      },
      {
       "output_type": "stream",
       "stream": "stdout",
       "text": [
        "2.71108522047\n",
        "4"
       ]
      },
      {
       "output_type": "stream",
       "stream": "stdout",
       "text": [
        " , "
       ]
      },
      {
       "output_type": "stream",
       "stream": "stdout",
       "text": [
        "2.21623340693\n",
        "5"
       ]
      },
      {
       "output_type": "stream",
       "stream": "stdout",
       "text": [
        " , "
       ]
      },
      {
       "output_type": "stream",
       "stream": "stdout",
       "text": [
        "2.28140183006\n",
        "6"
       ]
      },
      {
       "output_type": "stream",
       "stream": "stdout",
       "text": [
        " , "
       ]
      },
      {
       "output_type": "stream",
       "stream": "stdout",
       "text": [
        "2.48323772114\n",
        "7"
       ]
      },
      {
       "output_type": "stream",
       "stream": "stdout",
       "text": [
        " , "
       ]
      },
      {
       "output_type": "stream",
       "stream": "stdout",
       "text": [
        "2.74093000979\n",
        "8"
       ]
      },
      {
       "output_type": "stream",
       "stream": "stdout",
       "text": [
        " , "
       ]
      },
      {
       "output_type": "stream",
       "stream": "stdout",
       "text": [
        "2.4386400706\n",
        "9"
       ]
      },
      {
       "output_type": "stream",
       "stream": "stdout",
       "text": [
        " , "
       ]
      },
      {
       "output_type": "stream",
       "stream": "stdout",
       "text": [
        "2.54572444416\n",
        "10"
       ]
      },
      {
       "output_type": "stream",
       "stream": "stdout",
       "text": [
        " , "
       ]
      },
      {
       "output_type": "stream",
       "stream": "stdout",
       "text": [
        "2.15864967466\n",
        "11"
       ]
      },
      {
       "output_type": "stream",
       "stream": "stdout",
       "text": [
        " , "
       ]
      },
      {
       "output_type": "stream",
       "stream": "stdout",
       "text": [
        "2.17287646031\n",
        "12"
       ]
      },
      {
       "output_type": "stream",
       "stream": "stdout",
       "text": [
        " , "
       ]
      },
      {
       "output_type": "stream",
       "stream": "stdout",
       "text": [
        "2.05613656198\n",
        "13"
       ]
      },
      {
       "output_type": "stream",
       "stream": "stdout",
       "text": [
        " , "
       ]
      },
      {
       "output_type": "stream",
       "stream": "stdout",
       "text": [
        "2.19371170639\n",
        "14"
       ]
      },
      {
       "output_type": "stream",
       "stream": "stdout",
       "text": [
        " , "
       ]
      },
      {
       "output_type": "stream",
       "stream": "stdout",
       "text": [
        "2.61017004103\n",
        "15"
       ]
      },
      {
       "output_type": "stream",
       "stream": "stdout",
       "text": [
        " , "
       ]
      },
      {
       "output_type": "stream",
       "stream": "stdout",
       "text": [
        "2.73424891925\n",
        "16"
       ]
      },
      {
       "output_type": "stream",
       "stream": "stdout",
       "text": [
        " , "
       ]
      },
      {
       "output_type": "stream",
       "stream": "stdout",
       "text": [
        "2.42708940618\n",
        "17"
       ]
      },
      {
       "output_type": "stream",
       "stream": "stdout",
       "text": [
        " , "
       ]
      },
      {
       "output_type": "stream",
       "stream": "stdout",
       "text": [
        "2.76261483221\n",
        "18"
       ]
      },
      {
       "output_type": "stream",
       "stream": "stdout",
       "text": [
        " , "
       ]
      },
      {
       "output_type": "stream",
       "stream": "stdout",
       "text": [
        "2.94242284622\n",
        "19"
       ]
      },
      {
       "output_type": "stream",
       "stream": "stdout",
       "text": [
        " , "
       ]
      },
      {
       "output_type": "stream",
       "stream": "stdout",
       "text": [
        "2.65001029865\n",
        "20"
       ]
      },
      {
       "output_type": "stream",
       "stream": "stdout",
       "text": [
        " , "
       ]
      },
      {
       "output_type": "stream",
       "stream": "stdout",
       "text": [
        "2.39934082953\n"
       ]
      }
     ],
     "prompt_number": 69
    },
    {
     "cell_type": "code",
     "collapsed": false,
     "input": [
      "runHybrid(computePearsonSimilarity)"
     ],
     "language": "python",
     "metadata": {},
     "outputs": [
      {
       "output_type": "stream",
       "stream": "stdout",
       "text": [
        "1 , "
       ]
      },
      {
       "output_type": "stream",
       "stream": "stdout",
       "text": [
        "2.59976230219\n",
        "2"
       ]
      },
      {
       "output_type": "stream",
       "stream": "stdout",
       "text": [
        " , "
       ]
      },
      {
       "output_type": "stream",
       "stream": "stdout",
       "text": [
        "2.69179809873\n",
        "3"
       ]
      },
      {
       "output_type": "stream",
       "stream": "stdout",
       "text": [
        " , "
       ]
      },
      {
       "output_type": "stream",
       "stream": "stdout",
       "text": [
        "2.69052098562\n",
        "4"
       ]
      },
      {
       "output_type": "stream",
       "stream": "stdout",
       "text": [
        " , "
       ]
      },
      {
       "output_type": "stream",
       "stream": "stdout",
       "text": [
        "2.88388253301\n",
        "5"
       ]
      },
      {
       "output_type": "stream",
       "stream": "stdout",
       "text": [
        " , "
       ]
      },
      {
       "output_type": "stream",
       "stream": "stdout",
       "text": [
        "2.86653457443\n",
        "6"
       ]
      },
      {
       "output_type": "stream",
       "stream": "stdout",
       "text": [
        " , "
       ]
      },
      {
       "output_type": "stream",
       "stream": "stdout",
       "text": [
        "2.27642962748\n",
        "7"
       ]
      },
      {
       "output_type": "stream",
       "stream": "stdout",
       "text": [
        " , "
       ]
      },
      {
       "output_type": "stream",
       "stream": "stdout",
       "text": [
        "2.39027747874\n",
        "8"
       ]
      },
      {
       "output_type": "stream",
       "stream": "stdout",
       "text": [
        " , "
       ]
      },
      {
       "output_type": "stream",
       "stream": "stdout",
       "text": [
        "2.89792824853\n",
        "9"
       ]
      },
      {
       "output_type": "stream",
       "stream": "stdout",
       "text": [
        " , "
       ]
      },
      {
       "output_type": "stream",
       "stream": "stdout",
       "text": [
        "2.80986180112\n",
        "10"
       ]
      },
      {
       "output_type": "stream",
       "stream": "stdout",
       "text": [
        " , "
       ]
      },
      {
       "output_type": "stream",
       "stream": "stdout",
       "text": [
        "2.32735188919\n",
        "11"
       ]
      },
      {
       "output_type": "stream",
       "stream": "stdout",
       "text": [
        " , "
       ]
      },
      {
       "output_type": "stream",
       "stream": "stdout",
       "text": [
        "2.66221518012\n",
        "12"
       ]
      },
      {
       "output_type": "stream",
       "stream": "stdout",
       "text": [
        " , "
       ]
      },
      {
       "output_type": "stream",
       "stream": "stdout",
       "text": [
        "2.85727511655\n",
        "13"
       ]
      },
      {
       "output_type": "stream",
       "stream": "stdout",
       "text": [
        " , "
       ]
      },
      {
       "output_type": "stream",
       "stream": "stdout",
       "text": [
        "2.66319904109\n",
        "14"
       ]
      },
      {
       "output_type": "stream",
       "stream": "stdout",
       "text": [
        " , "
       ]
      },
      {
       "output_type": "stream",
       "stream": "stdout",
       "text": [
        "2.70265046028\n",
        "15"
       ]
      },
      {
       "output_type": "stream",
       "stream": "stdout",
       "text": [
        " , "
       ]
      },
      {
       "output_type": "stream",
       "stream": "stdout",
       "text": [
        "2.78205753743\n",
        "16"
       ]
      },
      {
       "output_type": "stream",
       "stream": "stdout",
       "text": [
        " , "
       ]
      },
      {
       "output_type": "stream",
       "stream": "stdout",
       "text": [
        "2.34683129142\n",
        "17"
       ]
      },
      {
       "output_type": "stream",
       "stream": "stdout",
       "text": [
        " , "
       ]
      },
      {
       "output_type": "stream",
       "stream": "stdout",
       "text": [
        "2.60175682604\n",
        "18"
       ]
      },
      {
       "output_type": "stream",
       "stream": "stdout",
       "text": [
        " , "
       ]
      },
      {
       "output_type": "stream",
       "stream": "stdout",
       "text": [
        "2.71903242941\n",
        "19"
       ]
      },
      {
       "output_type": "stream",
       "stream": "stdout",
       "text": [
        " , "
       ]
      },
      {
       "output_type": "stream",
       "stream": "stdout",
       "text": [
        "2.49711560035\n",
        "20"
       ]
      },
      {
       "output_type": "stream",
       "stream": "stdout",
       "text": [
        " , "
       ]
      },
      {
       "output_type": "stream",
       "stream": "stdout",
       "text": [
        "2.31114227343\n"
       ]
      }
     ],
     "prompt_number": 79
    },
    {
     "cell_type": "code",
     "collapsed": false,
     "input": [
      "def computeCosineSimilarity(songProperties, song1, song2):\n",
      "    if song1 not in songProperties or song2 not in songProperties:\n",
      "        return 0\n",
      "    song1Mod = np.dot(songProperties[song1],songProperties[song1])\n",
      "    song2Mod = np.dot(songProperties[song2],songProperties[song2])\n",
      "    if song1Mod != 0 and song2Mod != 0:\n",
      "        return np.dot(songProperties[song1],songProperties[song2])/(song1Mod * song2Mod)\n",
      "    return 0"
     ],
     "language": "python",
     "metadata": {},
     "outputs": [],
     "prompt_number": 58
    },
    {
     "cell_type": "code",
     "collapsed": false,
     "input": [
      "def computeEuclideanSimilarity(songProperties, song1, song2):\n",
      "    if song1 not in songProperties or song2 not in songProperties:\n",
      "        return 0\n",
      "    return distance.euclidean(songProperties[song1],songProperties[song2])"
     ],
     "language": "python",
     "metadata": {},
     "outputs": [],
     "prompt_number": 64
    },
    {
     "cell_type": "code",
     "collapsed": false,
     "input": [
      "def computePearsonSimilarity(songProperties, song1, song2):\n",
      "    if song1 not in songProperties or song2 not in songProperties:\n",
      "        return 0\n",
      "    return stats.pearsonr(songProperties[song1],songProperties[song2])[0]"
     ],
     "language": "python",
     "metadata": {},
     "outputs": [],
     "prompt_number": 77
    },
    {
     "cell_type": "code",
     "collapsed": false,
     "input": [
      "def computeRMSE(actualTestData,trainData,songProperties, simFunc = computeCosineSimilarity):\n",
      "    error = 0\n",
      "    instances = 0\n",
      "    for pair,actualRating in actualTestData.iteritems():\n",
      "        user = pair[0]\n",
      "        testSong = pair[1]\n",
      "        ratingSum = 0\n",
      "        similaritySum = 0\n",
      "        songCount = 0\n",
      "        for arr in trainData[user].nonzero():\n",
      "            for songId in arr:\n",
      "                if songId == 0 or songId not in songProperties:\n",
      "                    continue\n",
      "                similarity = computeCosineSimilarity(songProperties,testSong,songId)\n",
      "                if math.isnan(similarity):\n",
      "                    print \"Got nan for \",user,\" and song = \",songId, \" adn test song = \",testSong\n",
      "                ratingSum += trainData[user,songId]*similarity\n",
      "                similaritySum += similarity\n",
      "                songCount += 1\n",
      "        if similaritySum == 0:\n",
      "            continue\n",
      "        predictedRating = (ratingSum/similaritySum)\n",
      "        if math.isnan(predictedRating):\n",
      "            print \"Got nan, sim sum = \",similaritySum,\" and rating sum = \",ratingSum\n",
      "            continue\n",
      "        error += (predictedRating - actualRating)**2\n",
      "        instances += 1\n",
      "\n",
      "        #print \"For \",testSong,\" , Looking at \",songCount,\" songs, predicted rating is \",predictedRating,\" and actual is \",actualRating\n",
      "    rmse = (error/instances)**0.5\n",
      "    #print \"After looking at \",instances,\" samples, RMSE =\",rmse\n",
      "    return rmse\n",
      "    \n",
      "            "
     ],
     "language": "python",
     "metadata": {},
     "outputs": [],
     "prompt_number": 57
    },
    {
     "cell_type": "code",
     "collapsed": false,
     "input": [
      "computeRMSE() # [tempo,danceability,energy,loudness] for cosine"
     ],
     "language": "python",
     "metadata": {},
     "outputs": [
      {
       "output_type": "stream",
       "stream": "stdout",
       "text": [
        "After looking at  680  samples, RMSE = 2.73040475386\n"
       ]
      },
      {
       "metadata": {},
       "output_type": "pyout",
       "prompt_number": 233,
       "text": [
        "2.7304047538636609"
       ]
      }
     ],
     "prompt_number": 233
    },
    {
     "cell_type": "code",
     "collapsed": false,
     "input": [
      "computeRMSE()  #[tempo,danceability,energy,loudness,artist_hotness] for cosine"
     ],
     "language": "python",
     "metadata": {},
     "outputs": [
      {
       "output_type": "stream",
       "stream": "stdout",
       "text": [
        "After looking at  680  samples, RMSE = 2.73040332095\n"
       ]
      },
      {
       "metadata": {},
       "output_type": "pyout",
       "prompt_number": 272,
       "text": [
        "2.730403320945566"
       ]
      }
     ],
     "prompt_number": 272
    },
    {
     "cell_type": "code",
     "collapsed": false,
     "input": [
      "computeRMSE() #[tempo,energy] for cosine"
     ],
     "language": "python",
     "metadata": {},
     "outputs": [
      {
       "output_type": "stream",
       "stream": "stdout",
       "text": [
        "After looking at  680  samples, RMSE = 2.73041591711\n"
       ]
      },
      {
       "metadata": {},
       "output_type": "pyout",
       "prompt_number": 299,
       "text": [
        "2.7304159171055575"
       ]
      }
     ],
     "prompt_number": 299
    },
    {
     "cell_type": "code",
     "collapsed": false,
     "input": [
      "computeRMSE() #[tempo,danceability,energy,loudness,artist_hotness, song key] for cosine"
     ],
     "language": "python",
     "metadata": {},
     "outputs": [
      {
       "output_type": "stream",
       "stream": "stdout",
       "text": [
        "After looking at  680  samples, RMSE = 2.73048515675\n"
       ]
      },
      {
       "metadata": {},
       "output_type": "pyout",
       "prompt_number": 316,
       "text": [
        "2.7304851567527044"
       ]
      }
     ],
     "prompt_number": 316
    },
    {
     "cell_type": "code",
     "collapsed": false,
     "input": [
      "computeRMSE() #[tempo,danceability,energy,loudness,artist_hotness, song key] for cosine instance 2"
     ],
     "language": "python",
     "metadata": {},
     "outputs": [
      {
       "output_type": "stream",
       "stream": "stdout",
       "text": [
        "After looking at  707  samples, RMSE = 3.12647016516\n"
       ]
      },
      {
       "metadata": {},
       "output_type": "pyout",
       "prompt_number": 319,
       "text": [
        "3.1264701651593572"
       ]
      }
     ],
     "prompt_number": 319
    },
    {
     "cell_type": "code",
     "collapsed": false,
     "input": [
      "computeRMSE() #[tempo,danceability,energy,loudness,artist_hotness, song key] for cosine instance 3"
     ],
     "language": "python",
     "metadata": {},
     "outputs": [
      {
       "output_type": "stream",
       "stream": "stdout",
       "text": [
        "After looking at  697  samples, RMSE = 2.43546347248\n"
       ]
      },
      {
       "metadata": {},
       "output_type": "pyout",
       "prompt_number": 321,
       "text": [
        "2.4354634724796362"
       ]
      }
     ],
     "prompt_number": 321
    },
    {
     "cell_type": "code",
     "collapsed": false,
     "input": [
      "computeRMSE() #[tempo,danceability,energy,loudness,artist_hotness, song key] for cosine instance 4"
     ],
     "language": "python",
     "metadata": {},
     "outputs": [
      {
       "output_type": "stream",
       "stream": "stdout",
       "text": [
        "After looking at  699  samples, RMSE = 2.50289759013\n"
       ]
      },
      {
       "metadata": {},
       "output_type": "pyout",
       "prompt_number": 325,
       "text": [
        "2.502897590134689"
       ]
      }
     ],
     "prompt_number": 325
    },
    {
     "cell_type": "code",
     "collapsed": false,
     "input": [
      "computeRMSE() #[tempo,danceability,energy,loudness,artist_hotness, song key] for cosine instance 5"
     ],
     "language": "python",
     "metadata": {},
     "outputs": [
      {
       "output_type": "stream",
       "stream": "stdout",
       "text": [
        "After looking at  695  samples, RMSE = 2.58980563813\n"
       ]
      },
      {
       "metadata": {},
       "output_type": "pyout",
       "prompt_number": 327,
       "text": [
        "2.5898056381286376"
       ]
      }
     ],
     "prompt_number": 327
    },
    {
     "cell_type": "code",
     "collapsed": false,
     "input": [
      "def matrix_factorization(R, r=15, mew=0.001, reg=0.1, numIterations = 20):\n",
      "    N = R.shape[0]#len(R)\n",
      "    M = R.shape[1]#len(R[0])\n",
      "    P = np.random.rand(N,r)\n",
      "    Q = np.random.rand(M,r)\n",
      "    Q = Q.T\n",
      "    count = 0\n",
      "    for iteration in xrange(numIterations):\n",
      "        nnzArray = R.nonzero()\n",
      "        for index in range(0,len(nnzArray[0])):\n",
      "            i = nnzArray[0][index]\n",
      "            j = nnzArray[1][index]\n",
      "            if R[i,j] > 0:\n",
      "                eij = R[i,j] - np.dot(P[i],Q.T[j])\n",
      "                for k in xrange(r):\n",
      "                    P[i,k] = P[i,k] + mew * (2 * eij * Q[k,j] -  2*reg* P[i,k])\n",
      "                    Q[k,j] = Q[k,j] + mew * (2 * eij * P[i,k] -  2*reg* Q[k,j])\n",
      "            count += 1\n",
      "            if count % 100000 == 0:\n",
      "                print \"Count = \",count\n",
      "        \n",
      "        count = 0\n",
      "        error = 0\n",
      "        n = 1\n",
      "        '''\n",
      "        print \"Beginning error computation\"\n",
      "        nnzArray = R.nonzero()\n",
      "        for index in range(0,len(nnzArray[0])):\n",
      "            i = nnzArray[0][index]\n",
      "            j = nnzArray[1][index]\n",
      "            if R[i,j] > 0:\n",
      "                error += pow(R[i,j] - np.dot(P[i],Q.T[j]), 2)\n",
      "                for k in xrange(r):\n",
      "                    error += reg * ( pow(P[i,k],2) + pow(Q[k,j],2) )\n",
      "                n += 1\n",
      "            count++\n",
      "            if count % 100000 == 0:\n",
      "                print \"Count = \",count\n",
      "\n",
      "        if math.sqrt(error/n) < 0.01:\n",
      "            break\n",
      "        '''\n",
      "    return P, Q.T"
     ],
     "language": "python",
     "metadata": {},
     "outputs": [],
     "prompt_number": 30
    },
    {
     "cell_type": "code",
     "collapsed": false,
     "input": [
      "userIdDict,songSet, trainData, testData =  loadFile('train_triplets.txt', trimData = True)\n",
      "print \"Done again now!\""
     ],
     "language": "python",
     "metadata": {},
     "outputs": [
      {
       "output_type": "stream",
       "stream": "stdout",
       "text": [
        "Maximum  =  38.7243053433  and minimum =  0\n",
        "Done again now!"
       ]
      },
      {
       "output_type": "stream",
       "stream": "stdout",
       "text": [
        "\n"
       ]
      }
     ],
     "prompt_number": 15
    },
    {
     "cell_type": "code",
     "collapsed": false,
     "input": [
      "def computeMFRMSE(testData,trainData, r = 5, numIterations = 5):\n",
      "    nP,nQ = matrix_factorization(trainData,r = r,numIterations=numIterations)\n",
      "    predictedMatrix = np.dot(nP,nQ.T)\n",
      "    instances = 0\n",
      "    error = 0\n",
      "    for pair,actualRating in testData.iteritems():\n",
      "        user = pair[0]\n",
      "        songId = pair[1]\n",
      "        #print \"Predicted = \",predictedMatrix[user,songId],\" actual = \",actualRating\n",
      "        if user < predictedMatrix.shape[0] and songId < predictedMatrix.shape[1]:\n",
      "            error += (predictedMatrix[user,songId] - actualRating)**2\n",
      "            instances += 1\n",
      "\n",
      "    rmse = (error/instances)**0.5\n",
      "    return rmse"
     ],
     "language": "python",
     "metadata": {},
     "outputs": [
      {
       "output_type": "stream",
       "stream": "stdout",
       "text": [
        "\n"
       ]
      }
     ],
     "prompt_number": 45
    },
    {
     "cell_type": "code",
     "collapsed": false,
     "input": [
      "computeMFRMSE(testData,trainData,r=5,numIterations=5)"
     ],
     "language": "python",
     "metadata": {},
     "outputs": [
      {
       "output_type": "stream",
       "stream": "stdout",
       "text": [
        "RMSE =  3.94173253555\n"
       ]
      },
      {
       "metadata": {},
       "output_type": "pyout",
       "prompt_number": 39,
       "text": [
        "3.9417325355517425"
       ]
      }
     ],
     "prompt_number": 39
    },
    {
     "cell_type": "code",
     "collapsed": false,
     "input": [
      "computeMFRMSE(testData,trainData,r=10,numIterations=10)"
     ],
     "language": "python",
     "metadata": {},
     "outputs": [
      {
       "output_type": "stream",
       "stream": "stdout",
       "text": [
        "Done with MF step, beginning RMSE calculation\n"
       ]
      },
      {
       "metadata": {},
       "output_type": "pyout",
       "prompt_number": 42,
       "text": [
        "3.0478365965504319"
       ]
      }
     ],
     "prompt_number": 42
    },
    {
     "cell_type": "code",
     "collapsed": false,
     "input": [
      "for i in range(1,21):\n",
      "    print \"r=\",i,\" and RMSE = \",computeMFRMSE(testData,trainData,r=i,numIterations = 10)"
     ],
     "language": "python",
     "metadata": {},
     "outputs": [
      {
       "output_type": "stream",
       "stream": "stdout",
       "text": [
        "r= 1  and RMSE =  "
       ]
      },
      {
       "output_type": "stream",
       "stream": "stdout",
       "text": [
        "4.76092831834\n",
        "r= 2  and RMSE =  "
       ]
      },
      {
       "output_type": "stream",
       "stream": "stdout",
       "text": [
        "4.23104089733\n",
        "r= 3  and RMSE =  "
       ]
      },
      {
       "output_type": "stream",
       "stream": "stdout",
       "text": [
        "3.89438004042\n",
        "r= 4  and RMSE =  "
       ]
      },
      {
       "output_type": "stream",
       "stream": "stdout",
       "text": [
        "3.67646158401\n",
        "r= 5  and RMSE =  "
       ]
      },
      {
       "output_type": "stream",
       "stream": "stdout",
       "text": [
        "3.49160702945\n",
        "r= 6  and RMSE =  "
       ]
      },
      {
       "output_type": "stream",
       "stream": "stdout",
       "text": [
        "3.36043382144\n",
        "r= 7  and RMSE =  "
       ]
      },
      {
       "output_type": "stream",
       "stream": "stdout",
       "text": [
        "3.25070900352\n",
        "r= 8  and RMSE =  "
       ]
      },
      {
       "output_type": "stream",
       "stream": "stdout",
       "text": [
        "3.18214059794\n",
        "r= 9  and RMSE =  "
       ]
      },
      {
       "output_type": "stream",
       "stream": "stdout",
       "text": [
        "3.10955994806\n",
        "r= 10  and RMSE =  "
       ]
      },
      {
       "output_type": "stream",
       "stream": "stdout",
       "text": [
        "3.05190853932\n",
        "r= 11  and RMSE =  "
       ]
      },
      {
       "output_type": "stream",
       "stream": "stdout",
       "text": [
        "3.00275737262\n",
        "r= 12  and RMSE =  "
       ]
      },
      {
       "output_type": "stream",
       "stream": "stdout",
       "text": [
        "2.96101641608\n",
        "r= 13  and RMSE =  "
       ]
      },
      {
       "output_type": "stream",
       "stream": "stdout",
       "text": [
        "2.93257784054\n",
        "r= 14  and RMSE =  "
       ]
      },
      {
       "output_type": "stream",
       "stream": "stdout",
       "text": [
        "2.90906242139\n",
        "r= 15  and RMSE =  "
       ]
      },
      {
       "output_type": "stream",
       "stream": "stdout",
       "text": [
        "2.87707816778\n",
        "r= 16  and RMSE =  "
       ]
      },
      {
       "output_type": "stream",
       "stream": "stdout",
       "text": [
        "2.85728415586\n",
        "r= 17  and RMSE =  "
       ]
      },
      {
       "output_type": "stream",
       "stream": "stdout",
       "text": [
        "2.84841225288\n",
        "r= 18  and RMSE =  "
       ]
      },
      {
       "output_type": "stream",
       "stream": "stdout",
       "text": [
        "2.82820064864\n",
        "r= 19  and RMSE =  "
       ]
      },
      {
       "output_type": "stream",
       "stream": "stdout",
       "text": [
        "2.82325285894\n",
        "r= 20  and RMSE =  "
       ]
      },
      {
       "output_type": "stream",
       "stream": "stdout",
       "text": [
        "2.8136427985\n"
       ]
      }
     ],
     "prompt_number": 46
    },
    {
     "cell_type": "code",
     "collapsed": false,
     "input": [],
     "language": "python",
     "metadata": {},
     "outputs": []
    }
   ],
   "metadata": {}
  }
 ]
}